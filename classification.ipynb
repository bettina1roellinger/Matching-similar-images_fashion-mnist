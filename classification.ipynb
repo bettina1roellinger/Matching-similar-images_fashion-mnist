{
 "cells": [
  {
   "cell_type": "code",
   "execution_count": 25,
   "id": "fc0100b7",
   "metadata": {},
   "outputs": [],
   "source": [
    "from tensorflow.keras.datasets import fashion_mnist\n",
    "(x_train_full, y_train_full), (x_test_full, y_test_full) = fashion_mnist.load_data()\n",
    "X_valid = x_train_full[:5000]\n",
    "y_valid = y_train_full[:5000]\n",
    "X_train = x_train_full[5000:]\n",
    "y_train = y_train_full[5000:]\n"
   ]
  },
  {
   "cell_type": "code",
   "execution_count": 26,
   "id": "c0344e9d",
   "metadata": {},
   "outputs": [
    {
     "data": {
      "text/plain": [
       "(55000, 28, 28, 1)"
      ]
     },
     "execution_count": 26,
     "metadata": {},
     "output_type": "execute_result"
    }
   ],
   "source": [
    "import numpy as np\n",
    "X_train = np.expand_dims(X_train, axis=-1)\n",
    "X_valid = np.expand_dims(X_valid, axis=-1)\n",
    "X_test = np.expand_dims(x_test_full, axis=-1) \n",
    "X_train.shape"
   ]
  },
  {
   "cell_type": "code",
   "execution_count": null,
   "id": "08cfd5a8",
   "metadata": {},
   "outputs": [
    {
     "name": "stdout",
     "output_type": "stream",
     "text": [
      "Min: 0.0\n",
      "Max: 1.0\n",
      "(55000, 28, 28, 1)\n",
      "(10000, 28, 28, 1)\n",
      "(5000, 28, 28, 1)\n"
     ]
    }
   ],
   "source": [
    "X_train = X_train / 255.0\n",
    "X_test = X_test / 255.0\n",
    "X_valid= X_valid / 255.0\n",
    "print(\"Min:\", X_train.min())\n",
    "print(\"Max:\", X_train.max())\n",
    "print(X_train.shape)\n",
    "print(X_test.shape)\n",
    "print(X_valid.shape)"
   ]
  },
  {
   "cell_type": "code",
   "execution_count": 20,
   "id": "fbc25e7a",
   "metadata": {},
   "outputs": [
    {
     "name": "stderr",
     "output_type": "stream",
     "text": [
      "/usr/local/lib/python3.10/site-packages/keras/src/layers/convolutional/base_conv.py:113: UserWarning: Do not pass an `input_shape`/`input_dim` argument to a layer. When using Sequential models, prefer using an `Input(shape)` object as the first layer in the model instead.\n",
      "  super().__init__(activity_regularizer=activity_regularizer, **kwargs)\n"
     ]
    }
   ],
   "source": [
    "import tensorflow as tf\n",
    "from functools import partial\n",
    "\n",
    "# Définir une version par défaut des couches Conv2D si besoin\n",
    "DefaultConv2D=partial(tf.keras.layers.Conv2D, kernel_size=3, padding='same',\n",
    "                      activation='relu', kernel_initializer='he_normal')\n",
    "\n",
    "model = tf.keras.Sequential([\n",
    "    # Bloc 1\n",
    "    DefaultConv2D(filters=64, kernel_size=7, input_shape=[28, 28, 1]),\n",
    "    tf.keras.layers.MaxPool2D(),\n",
    "\n",
    "    # Bloc 2\n",
    "    DefaultConv2D(filters=128),\n",
    "    DefaultConv2D(filters=128),\n",
    "    tf.keras.layers.MaxPool2D(),\n",
    "\n",
    "    # Bloc 3\n",
    "    DefaultConv2D(filters=256),\n",
    "    DefaultConv2D(filters=256),\n",
    "    tf.keras.layers.MaxPool2D(),\n",
    "\n",
    "    # Dense\n",
    "    tf.keras.layers.Flatten(),\n",
    "    tf.keras.layers.Dense(128, activation='relu', kernel_initializer='he_normal'),\n",
    "    tf.keras.layers.Dropout(0.5),\n",
    "    tf.keras.layers.Dense(64, activation='relu', kernel_initializer='he_normal'),\n",
    "    tf.keras.layers.Dropout(0.5),\n",
    "    tf.keras.layers.Dense(10, activation='softmax')  # 10 classes Fashion MNIST\n",
    "])"
   ]
  },
  {
   "cell_type": "code",
   "execution_count": 21,
   "id": "0310c487",
   "metadata": {},
   "outputs": [
    {
     "name": "stdout",
     "output_type": "stream",
     "text": [
      "Epoch 1/3\n",
      "\u001b[1m1719/1719\u001b[0m \u001b[32m━━━━━━━━━━━━━━━━━━━━\u001b[0m\u001b[37m\u001b[0m \u001b[1m287s\u001b[0m 166ms/step - accuracy: 0.7026 - loss: 0.8193 - val_accuracy: 0.8574 - val_loss: 0.3911\n",
      "Epoch 2/3\n",
      "\u001b[1m1719/1719\u001b[0m \u001b[32m━━━━━━━━━━━━━━━━━━━━\u001b[0m\u001b[37m\u001b[0m \u001b[1m299s\u001b[0m 174ms/step - accuracy: 0.8417 - loss: 0.4627 - val_accuracy: 0.8878 - val_loss: 0.3037\n",
      "Epoch 3/3\n",
      "\u001b[1m1719/1719\u001b[0m \u001b[32m━━━━━━━━━━━━━━━━━━━━\u001b[0m\u001b[37m\u001b[0m \u001b[1m292s\u001b[0m 170ms/step - accuracy: 0.8698 - loss: 0.3840 - val_accuracy: 0.8940 - val_loss: 0.2962\n"
     ]
    }
   ],
   "source": [
    "from tensorflow.keras.optimizers import Adam\n",
    "model.compile(loss=\"sparse_categorical_crossentropy\", optimizer=Adam(), metrics=[\"accuracy\"])\n",
    "history=model.fit(X_train, y_train, epochs=3, validation_data=(X_valid, y_valid))\n",
    "model.save('fashion_mnist.keras')"
   ]
  },
  {
   "cell_type": "code",
   "execution_count": 28,
   "id": "7cf63abc",
   "metadata": {},
   "outputs": [
    {
     "name": "stdout",
     "output_type": "stream",
     "text": [
      "\u001b[1m313/313\u001b[0m \u001b[32m━━━━━━━━━━━━━━━━━━━━\u001b[0m\u001b[37m\u001b[0m \u001b[1m9s\u001b[0m 28ms/step - accuracy: 0.8885 - loss: 0.3130\n"
     ]
    },
    {
     "data": {
      "text/plain": [
       "[0.31300482153892517, 0.8884999752044678]"
      ]
     },
     "execution_count": 28,
     "metadata": {},
     "output_type": "execute_result"
    }
   ],
   "source": [
    "from tensorflow import keras\n",
    "model = keras.models.load_model(\"fashion_mnist.keras\")\n",
    "model.evaluate(X_test,y_test_full)"
   ]
  },
  {
   "cell_type": "code",
   "execution_count": 30,
   "id": "727f238a",
   "metadata": {},
   "outputs": [
    {
     "name": "stdout",
     "output_type": "stream",
     "text": [
      "\u001b[1m860/860\u001b[0m \u001b[32m━━━━━━━━━━━━━━━━━━━━\u001b[0m\u001b[37m\u001b[0m \u001b[1m45s\u001b[0m 52ms/step\n"
     ]
    }
   ],
   "source": [
    "from build_embedding_model import load_embedding_model\n",
    "embedding_model = load_embedding_model(\"fashion_mnist.keras\")\n",
    "embeddings_train = embedding_model.predict(X_train, batch_size=64)\n",
    "np.save(\"embeddings_train.npy\", embeddings_train)"
   ]
  },
  {
   "cell_type": "code",
   "execution_count": 31,
   "id": "42542ec3",
   "metadata": {},
   "outputs": [
    {
     "name": "stdout",
     "output_type": "stream",
     "text": [
      "\u001b[1m157/157\u001b[0m \u001b[32m━━━━━━━━━━━━━━━━━━━━\u001b[0m\u001b[37m\u001b[0m \u001b[1m8s\u001b[0m 48ms/step\n"
     ]
    }
   ],
   "source": [
    "from build_embedding_model import load_embedding_model\n",
    "embedding_model = load_embedding_model(\"fashion_mnist.keras\")\n",
    "embeddings_test = embedding_model.predict(X_test, batch_size=64)\n",
    "np.save(\"embeddings_test.npy\", embeddings_test)"
   ]
  },
  {
   "cell_type": "code",
   "execution_count": 32,
   "id": "c16e0631",
   "metadata": {},
   "outputs": [],
   "source": [
    "embeddings_train = np.load(\"embeddings_train.npy\")\n",
    "embeddings_test = np.load(\"embeddings_test.npy\")\n",
    "labels=y_train"
   ]
  },
  {
   "cell_type": "code",
   "execution_count": 35,
   "id": "f30d0acb",
   "metadata": {},
   "outputs": [],
   "source": [
    "i = 0  # par exemple la première image\n",
    "query_image = X_test[i]\n"
   ]
  },
  {
   "cell_type": "code",
   "execution_count": 37,
   "id": "8060df75",
   "metadata": {},
   "outputs": [
    {
     "name": "stdout",
     "output_type": "stream",
     "text": [
      "\u001b[1m1/1\u001b[0m \u001b[32m━━━━━━━━━━━━━━━━━━━━\u001b[0m\u001b[37m\u001b[0m \u001b[1m0s\u001b[0m 91ms/step\n"
     ]
    },
    {
     "data": {
      "image/png": "[encoded data removed]",
      "text/plain": [
       "<Figure size 1500x300 with 6 Axes>"
      ]
     },
     "metadata": {},
     "output_type": "display_data"
    }
   ],
   "source": [
    "import numpy as np\n",
    "from numpy.linalg import norm\n",
    "import matplotlib.pyplot as plt\n",
    "\n",
    "# Choisir une image de test\n",
    "i = 6  # par exemple la première image\n",
    "query_image = X_test[i]\n",
    "\n",
    "# Générer son embedding\n",
    "query_embedding = embedding_model.predict(np.expand_dims(query_image, axis=0))[0]\n",
    "\n",
    "# Calculer les distances euclidiennes avec les embeddings de X_train\n",
    "distances = norm(embeddings_train - query_embedding, axis=1)\n",
    "\n",
    "# Indices des 5 plus proches voisins\n",
    "top_k_indices = np.argsort(distances)[:5]\n",
    "\n",
    "# Afficher l’image requête + les 5 plus proches voisins\n",
    "plt.figure(figsize=(15, 3))\n",
    "\n",
    "# Afficher l’image requête\n",
    "plt.subplot(1, 6, 1)\n",
    "img = query_image.squeeze()\n",
    "plt.imshow(img, cmap='gray')\n",
    "plt.title(f\"Test image\\nLabel: {y_test[i]}\")\n",
    "plt.axis('off')\n",
    "\n",
    "# Afficher les 5 plus proches images d'entraînement\n",
    "for j, idx in enumerate(top_k_indices):\n",
    "    plt.subplot(1, 6, j + 2)\n",
    "    img = X_train[idx].squeeze()\n",
    "    label = y_train[idx]\n",
    "    dist = distances[idx]\n",
    "    plt.imshow(img, cmap='gray')\n",
    "    plt.title(f\"Train #{idx}\\nLabel: {label}\\nDist: {dist:.4f}\")\n",
    "    plt.axis('off')\n",
    "\n",
    "plt.tight_layout()\n",
    "plt.show()"
   ]
  },
  {
   "cell_type": "code",
   "execution_count": null,
   "id": "28f5d5ce",
   "metadata": {},
   "outputs": [],
   "source": [
    "import numpy as np\n",
    "from numpy.linalg import norm\n",
    "\n",
    "def find_top_k_closest(embeddings, query_embedding, paths, labels, k=5):\n",
    "    distances = norm(embeddings - query_embedding, axis=1)\n",
    "    top_k_indices = np.argsort(distances)[:k]\n",
    "    return [(paths[i], labels[i], distances[i]) for i in top_k_indices]"
   ]
  },
  {
   "cell_type": "code",
   "execution_count": null,
   "id": "420a92c5",
   "metadata": {},
   "outputs": [],
   "source": [
    "\n",
    "top_k_results = find_top_k_closest(embeddings, query_embedding, paths, labels, k=5)\n",
    "for path, label, dist in top_k_results:\n",
    "    print(f\"Image: {path}, Label: {label}, Distance: {dist:.4f}\")"
   ]
  }
 ],
 "metadata": {
  "kernelspec": {
   "display_name": "Python 3",
   "language": "python",
   "name": "python3"
  },
  "language_info": {
   "codemirror_mode": {
    "name": "ipython",
    "version": 3
   },
   "file_extension": ".py",
   "mimetype": "text/x-python",
   "name": "python",
   "nbconvert_exporter": "python",
   "pygments_lexer": "ipython3",
   "version": "3.10.18"
  }
 },
 "nbformat": 4,
 "nbformat_minor": 5
}
